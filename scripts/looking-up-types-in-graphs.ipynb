{
 "cells": [
  {
   "cell_type": "markdown",
   "id": "brilliant-premium",
   "metadata": {},
   "source": [
    "# Looking up a linear type in a provenance graph"
   ]
  },
  {
   "cell_type": "code",
   "execution_count": 1,
   "id": "atomic-tract",
   "metadata": {},
   "outputs": [],
   "source": [
    "from pathlib import Path\n",
    "import pickle\n",
    "\n",
    "import pandas as pd\n",
    "from prov.model import ProvDocument\n",
    "from prov.graph import prov_to_graph, graph_to_prov\n",
    "\n",
    "from flatprovenancetypes import print_flat_type, calculate_flat_provenance_types"
   ]
  },
  {
   "cell_type": "code",
   "execution_count": 2,
   "id": "distant-curtis",
   "metadata": {},
   "outputs": [],
   "source": [
    "# point this path to where the provenance graphs are\n",
    "graphs_path = Path(\"../datasets/CM-Routes/\")\n",
    "# point this path to where it can find the kernels' \".picked\" files\n",
    "kernels_path = Path(\"../outputs/CM-Routes/kernels/\")"
   ]
  },
  {
   "cell_type": "code",
   "execution_count": 3,
   "id": "demonstrated-overhead",
   "metadata": {},
   "outputs": [],
   "source": [
    "# the kernel we want to work with\n",
    "kernel_id = \"FA_2\""
   ]
  },
  {
   "cell_type": "markdown",
   "id": "valuable-import",
   "metadata": {
    "tags": []
   },
   "source": [
    "## Load a feature table"
   ]
  },
  {
   "cell_type": "code",
   "execution_count": 4,
   "id": "cordless-matter",
   "metadata": {},
   "outputs": [],
   "source": [
    "kernel_file_path = kernels_path / (kernel_id + \".pickled\")\n",
    "features_df = pd.read_pickle(kernel_file_path)"
   ]
  },
  {
   "cell_type": "code",
   "execution_count": 5,
   "id": "geological-server",
   "metadata": {},
   "outputs": [
    {
     "data": {
      "text/html": [
       "<div>\n",
       "<style scoped>\n",
       "    .dataframe tbody tr th:only-of-type {\n",
       "        vertical-align: middle;\n",
       "    }\n",
       "\n",
       "    .dataframe tbody tr th {\n",
       "        vertical-align: top;\n",
       "    }\n",
       "\n",
       "    .dataframe thead th {\n",
       "        text-align: right;\n",
       "    }\n",
       "</style>\n",
       "<table border=\"1\" class=\"dataframe\">\n",
       "  <thead>\n",
       "    <tr style=\"text-align: right;\">\n",
       "      <th>Number</th>\n",
       "      <th>FA2_1</th>\n",
       "      <th>FA2_2</th>\n",
       "      <th>FA2_3</th>\n",
       "      <th>FA2_4</th>\n",
       "      <th>FA2_5</th>\n",
       "      <th>FA2_6</th>\n",
       "      <th>FA2_7</th>\n",
       "      <th>FA2_8</th>\n",
       "      <th>FA2_9</th>\n",
       "      <th>FA2_10</th>\n",
       "      <th>FA2_11</th>\n",
       "      <th>FA2_12</th>\n",
       "      <th>FA2_13</th>\n",
       "      <th>FA2_14</th>\n",
       "      <th>FA2_15</th>\n",
       "      <th>FA2_16</th>\n",
       "      <th>FA2_17</th>\n",
       "      <th>FA2_18</th>\n",
       "      <th>FA2_19</th>\n",
       "      <th>FA2_20</th>\n",
       "    </tr>\n",
       "    <tr>\n",
       "      <th>graph_file</th>\n",
       "      <th></th>\n",
       "      <th></th>\n",
       "      <th></th>\n",
       "      <th></th>\n",
       "      <th></th>\n",
       "      <th></th>\n",
       "      <th></th>\n",
       "      <th></th>\n",
       "      <th></th>\n",
       "      <th></th>\n",
       "      <th></th>\n",
       "      <th></th>\n",
       "      <th></th>\n",
       "      <th></th>\n",
       "      <th></th>\n",
       "      <th></th>\n",
       "      <th></th>\n",
       "      <th></th>\n",
       "      <th></th>\n",
       "      <th></th>\n",
       "    </tr>\n",
       "  </thead>\n",
       "  <tbody>\n",
       "    <tr>\n",
       "      <th>Route51922.0.json</th>\n",
       "      <td>2</td>\n",
       "      <td>2</td>\n",
       "      <td>0</td>\n",
       "      <td>0</td>\n",
       "      <td>0</td>\n",
       "      <td>0</td>\n",
       "      <td>0</td>\n",
       "      <td>0</td>\n",
       "      <td>0</td>\n",
       "      <td>0</td>\n",
       "      <td>0</td>\n",
       "      <td>0</td>\n",
       "      <td>0</td>\n",
       "      <td>0</td>\n",
       "      <td>0</td>\n",
       "      <td>0</td>\n",
       "      <td>0</td>\n",
       "      <td>0</td>\n",
       "      <td>0</td>\n",
       "      <td>0</td>\n",
       "    </tr>\n",
       "    <tr>\n",
       "      <th>Route59585.0.json</th>\n",
       "      <td>0</td>\n",
       "      <td>0</td>\n",
       "      <td>0</td>\n",
       "      <td>0</td>\n",
       "      <td>0</td>\n",
       "      <td>0</td>\n",
       "      <td>0</td>\n",
       "      <td>0</td>\n",
       "      <td>0</td>\n",
       "      <td>0</td>\n",
       "      <td>0</td>\n",
       "      <td>0</td>\n",
       "      <td>0</td>\n",
       "      <td>0</td>\n",
       "      <td>0</td>\n",
       "      <td>0</td>\n",
       "      <td>0</td>\n",
       "      <td>0</td>\n",
       "      <td>0</td>\n",
       "      <td>0</td>\n",
       "    </tr>\n",
       "    <tr>\n",
       "      <th>Route39208.0.json</th>\n",
       "      <td>4</td>\n",
       "      <td>4</td>\n",
       "      <td>0</td>\n",
       "      <td>0</td>\n",
       "      <td>0</td>\n",
       "      <td>0</td>\n",
       "      <td>0</td>\n",
       "      <td>0</td>\n",
       "      <td>0</td>\n",
       "      <td>0</td>\n",
       "      <td>0</td>\n",
       "      <td>0</td>\n",
       "      <td>0</td>\n",
       "      <td>0</td>\n",
       "      <td>0</td>\n",
       "      <td>0</td>\n",
       "      <td>0</td>\n",
       "      <td>0</td>\n",
       "      <td>0</td>\n",
       "      <td>0</td>\n",
       "    </tr>\n",
       "    <tr>\n",
       "      <th>Route42721.0.json</th>\n",
       "      <td>10</td>\n",
       "      <td>9</td>\n",
       "      <td>0</td>\n",
       "      <td>0</td>\n",
       "      <td>0</td>\n",
       "      <td>0</td>\n",
       "      <td>0</td>\n",
       "      <td>0</td>\n",
       "      <td>0</td>\n",
       "      <td>0</td>\n",
       "      <td>0</td>\n",
       "      <td>0</td>\n",
       "      <td>0</td>\n",
       "      <td>0</td>\n",
       "      <td>0</td>\n",
       "      <td>0</td>\n",
       "      <td>0</td>\n",
       "      <td>0</td>\n",
       "      <td>0</td>\n",
       "      <td>0</td>\n",
       "    </tr>\n",
       "    <tr>\n",
       "      <th>Route58205.0.json</th>\n",
       "      <td>3</td>\n",
       "      <td>3</td>\n",
       "      <td>2</td>\n",
       "      <td>0</td>\n",
       "      <td>0</td>\n",
       "      <td>0</td>\n",
       "      <td>0</td>\n",
       "      <td>0</td>\n",
       "      <td>0</td>\n",
       "      <td>0</td>\n",
       "      <td>0</td>\n",
       "      <td>0</td>\n",
       "      <td>0</td>\n",
       "      <td>0</td>\n",
       "      <td>0</td>\n",
       "      <td>0</td>\n",
       "      <td>0</td>\n",
       "      <td>0</td>\n",
       "      <td>0</td>\n",
       "      <td>0</td>\n",
       "    </tr>\n",
       "  </tbody>\n",
       "</table>\n",
       "</div>"
      ],
      "text/plain": [
       "Number             FA2_1  FA2_2  FA2_3  FA2_4  FA2_5  FA2_6  FA2_7  FA2_8  \\\n",
       "graph_file                                                                  \n",
       "Route51922.0.json      2      2      0      0      0      0      0      0   \n",
       "Route59585.0.json      0      0      0      0      0      0      0      0   \n",
       "Route39208.0.json      4      4      0      0      0      0      0      0   \n",
       "Route42721.0.json     10      9      0      0      0      0      0      0   \n",
       "Route58205.0.json      3      3      2      0      0      0      0      0   \n",
       "\n",
       "Number             FA2_9  FA2_10  FA2_11  FA2_12  FA2_13  FA2_14  FA2_15  \\\n",
       "graph_file                                                                 \n",
       "Route51922.0.json      0       0       0       0       0       0       0   \n",
       "Route59585.0.json      0       0       0       0       0       0       0   \n",
       "Route39208.0.json      0       0       0       0       0       0       0   \n",
       "Route42721.0.json      0       0       0       0       0       0       0   \n",
       "Route58205.0.json      0       0       0       0       0       0       0   \n",
       "\n",
       "Number             FA2_16  FA2_17  FA2_18  FA2_19  FA2_20  \n",
       "graph_file                                                 \n",
       "Route51922.0.json       0       0       0       0       0  \n",
       "Route59585.0.json       0       0       0       0       0  \n",
       "Route39208.0.json       0       0       0       0       0  \n",
       "Route42721.0.json       0       0       0       0       0  \n",
       "Route58205.0.json       0       0       0       0       0  "
      ]
     },
     "execution_count": 5,
     "metadata": {},
     "output_type": "execute_result"
    }
   ],
   "source": [
    "features_df.head()"
   ]
  },
  {
   "cell_type": "markdown",
   "id": "unusual-bulgarian",
   "metadata": {},
   "source": [
    "## Load type map for the selected kernel"
   ]
  },
  {
   "cell_type": "code",
   "execution_count": 6,
   "id": "commercial-wright",
   "metadata": {},
   "outputs": [],
   "source": [
    "types_map_filepath = kernels_path / (kernel_id + \"_types_map.pickled\")\n",
    "with types_map_filepath.open(\"rb\") as f:\n",
    "    types_map = pickle.load(f)"
   ]
  },
  {
   "cell_type": "code",
   "execution_count": 7,
   "id": "complicated-reducing",
   "metadata": {},
   "outputs": [
    {
     "data": {
      "text/plain": [
       "(frozenset({<QualifiedName: collabmap:Route>,\n",
       "            <QualifiedName: collabmap:RouteSet>,\n",
       "            <QualifiedName: prov:Entity>}),\n",
       " frozenset({<QualifiedName: prov:Derivation>, <QualifiedName: prov:Usage>}),\n",
       " frozenset({<QualifiedName: prov:Derivation>,\n",
       "            <QualifiedName: prov:Generation>}))"
      ]
     },
     "execution_count": 7,
     "metadata": {},
     "output_type": "execute_result"
    }
   ],
   "source": [
    "prov_type = types_map[\"FA2_1\"]\n",
    "prov_type"
   ]
  },
  {
   "cell_type": "code",
   "execution_count": 8,
   "id": "permanent-packing",
   "metadata": {},
   "outputs": [
    {
     "data": {
      "text/plain": [
       "'[der|gen]→[der|usd]→[ent|collabmap:Route|collabmap:RouteSet]'"
      ]
     },
     "execution_count": 8,
     "metadata": {},
     "output_type": "execute_result"
    }
   ],
   "source": [
    "# to see the pretty-formatted string\n",
    "print_flat_type(prov_type)"
   ]
  },
  {
   "cell_type": "markdown",
   "id": "casual-invention",
   "metadata": {},
   "source": [
    "## Load a provenance graph"
   ]
  },
  {
   "cell_type": "code",
   "execution_count": 9,
   "id": "metric-weapon",
   "metadata": {},
   "outputs": [],
   "source": [
    "graph_filename = \"Route51922.0.json\"\n",
    "prov_doc = ProvDocument.deserialize(graphs_path / graph_filename)"
   ]
  },
  {
   "cell_type": "code",
   "execution_count": 10,
   "id": "unnecessary-stevens",
   "metadata": {},
   "outputs": [],
   "source": [
    "# converting the PROV document into a NetworkX graph\n",
    "# see https://networkx.org/documentation/stable/reference/classes/multidigraph.html\n",
    "prov_graph = prov_to_graph(prov_doc)"
   ]
  },
  {
   "cell_type": "code",
   "execution_count": 11,
   "id": "appropriate-gibson",
   "metadata": {},
   "outputs": [
    {
     "data": {
      "text/plain": [
       "NodeView((<ProvEntity: UpVote56562.0>, <ProvEntity: RouteSet9241.1>, <ProvEntity: UpVote56563.0>, <ProvEntity: UpVote51924.0>, <ProvEntity: Route51922.0>, <ProvActivity: CompletionVerification36641>, <ProvActivity: RouteVerification36640>))"
      ]
     },
     "execution_count": 11,
     "metadata": {},
     "output_type": "execute_result"
    }
   ],
   "source": [
    "# a view of all the nodes\n",
    "prov_graph.nodes"
   ]
  },
  {
   "cell_type": "markdown",
   "id": "raised-essay",
   "metadata": {},
   "source": [
    "## Construct linear types in the graph"
   ]
  },
  {
   "cell_type": "code",
   "execution_count": 12,
   "id": "perceived-sarah",
   "metadata": {},
   "outputs": [],
   "source": [
    "fptypes = calculate_flat_provenance_types(\n",
    "    prov_doc,  # the ProvDocument object to produce types from\n",
    "    to_level=2,  # calculate types up to this given level (2)\n",
    "    including_primitives_types=True,  # also consider application-specific types\n",
    ")"
   ]
  },
  {
   "cell_type": "code",
   "execution_count": 13,
   "id": "welsh-dinner",
   "metadata": {},
   "outputs": [
    {
     "data": {
      "text/plain": [
       "dict_keys([0, 1, 2])"
      ]
     },
     "execution_count": 13,
     "metadata": {},
     "output_type": "execute_result"
    }
   ],
   "source": [
    "fptypes.keys()  # all the available levels"
   ]
  },
  {
   "cell_type": "code",
   "execution_count": 14,
   "id": "spectacular-makeup",
   "metadata": {},
   "outputs": [
    {
     "name": "stdout",
     "output_type": "stream",
     "text": [
      "UpVote56563.0\n"
     ]
    }
   ],
   "source": [
    "# Looking for prov_type in fptypes\n",
    "for qn, t2 in fptypes[2].items():\n",
    "    if t2 == prov_type:\n",
    "        print(qn)\n",
    "        # stop at the first find\n",
    "        break"
   ]
  },
  {
   "cell_type": "markdown",
   "id": "ongoing-portuguese",
   "metadata": {},
   "source": [
    "## Extract a sub-graph at a given node"
   ]
  },
  {
   "cell_type": "code",
   "execution_count": 15,
   "id": "interested-intermediate",
   "metadata": {},
   "outputs": [],
   "source": [
    "# get the element from the identifier\n",
    "node = prov_doc.get_record(qn)[0]"
   ]
  },
  {
   "cell_type": "code",
   "execution_count": 16,
   "id": "automotive-wesley",
   "metadata": {},
   "outputs": [],
   "source": [
    "# find all the successors of node\n",
    "successors = prov_graph.successors(node)"
   ]
  },
  {
   "cell_type": "code",
   "execution_count": 17,
   "id": "paperback-criterion",
   "metadata": {},
   "outputs": [
    {
     "data": {
      "text/plain": [
       "[<ProvEntity: RouteSet9241.1>, <ProvActivity: CompletionVerification36641>]"
      ]
     },
     "execution_count": 17,
     "metadata": {},
     "output_type": "execute_result"
    }
   ],
   "source": [
    "list(successors)"
   ]
  },
  {
   "cell_type": "code",
   "execution_count": 18,
   "id": "laden-sewing",
   "metadata": {},
   "outputs": [],
   "source": [
    "def successors_at_level(graph, node, level):\n",
    "    results = set()\n",
    "    nodes_to_visit = {node}\n",
    "    for _ in range(level):\n",
    "        successors = set()\n",
    "        while nodes_to_visit:\n",
    "            n = nodes_to_visit.pop()\n",
    "            successors.update(graph.successors(n))\n",
    "            results.add(n)\n",
    "        nodes_to_visit = successors\n",
    "\n",
    "    # put all nodes in the last layer to results\n",
    "    results.update(nodes_to_visit)\n",
    "    return results"
   ]
  },
  {
   "cell_type": "code",
   "execution_count": 19,
   "id": "graduate-hormone",
   "metadata": {},
   "outputs": [
    {
     "data": {
      "text/plain": [
       "{<ProvActivity: CompletionVerification36641>,\n",
       " <ProvEntity: Route51922.0>,\n",
       " <ProvEntity: RouteSet9241.1>,\n",
       " <ProvEntity: UpVote56563.0>}"
      ]
     },
     "execution_count": 19,
     "metadata": {},
     "output_type": "execute_result"
    }
   ],
   "source": [
    "successors_at_level(prov_graph, node, 2)"
   ]
  },
  {
   "cell_type": "code",
   "execution_count": 20,
   "id": "settled-tamil",
   "metadata": {},
   "outputs": [],
   "source": [
    "# produce a subgraph of node with level away\n",
    "def produce_sub_graph(graph, node, level: int):\n",
    "    nodes = successors_at_level(graph, node, level)\n",
    "    return prov_graph.subgraph(nodes)"
   ]
  },
  {
   "cell_type": "markdown",
   "id": "linear-spirit",
   "metadata": {},
   "source": [
    "### Convert a subgraph back to a PROV document"
   ]
  },
  {
   "cell_type": "code",
   "execution_count": 21,
   "id": "individual-insulation",
   "metadata": {},
   "outputs": [],
   "source": [
    "subgraph_of_node = produce_sub_graph(prov_graph, node, 2)\n",
    "prov_doc_of_node = graph_to_prov(subgraph_of_node)"
   ]
  },
  {
   "cell_type": "code",
   "execution_count": 22,
   "id": "qualified-atlanta",
   "metadata": {},
   "outputs": [
    {
     "name": "stdout",
     "output_type": "stream",
     "text": [
      "document\n",
      "  default <http://www.collabmap.org/data/local/20140716/>\n",
      "  prefix collabmap <http://www.orchid.ac.uk/ontologies/collabmap.owl#>\n",
      "  \n",
      "  entity(RouteSet9241.1, [prov:type='collabmap:RouteSet'])\n",
      "  entity(UpVote56563.0, [prov:type='collabmap:Vote', prov:value=1])\n",
      "  entity(Route51922.0, [prov:type='collabmap:Route'])\n",
      "  activity(CompletionVerification36641, 2012-02-23T22:57:28, 2012-02-23T22:57:32, [prov:type='collabmap:CompletionVerification'])\n",
      "  wasDerivedFrom(RouteSet9241.1, Route51922.0, -, -, -, [prov:type='collabmap:includes'])\n",
      "  wasDerivedFrom(UpVote56563.0, RouteSet9241.1, -, -, -, [prov:type='collabmap:votedOn'])\n",
      "  wasGeneratedBy(UpVote56563.0, CompletionVerification36641, 2012-02-23T22:57:32)\n",
      "  used(CompletionVerification36641, RouteSet9241.1, 2012-02-23T22:57:28)\n",
      "endDocument\n"
     ]
    }
   ],
   "source": [
    "print(prov_doc_of_node.get_provn())"
   ]
  },
  {
   "cell_type": "code",
   "execution_count": 23,
   "id": "numerous-camel",
   "metadata": {},
   "outputs": [
    {
     "data": {
      "image/png": "[encoded data removed]",
      "text/plain": [
       "<Figure size 553.68x572.4 with 1 Axes>"
      ]
     },
     "metadata": {},
     "output_type": "display_data"
    }
   ],
   "source": [
    "prov_doc_of_node.plot()"
   ]
  }
 ],
 "metadata": {
  "kernelspec": {
   "display_name": "Python 3",
   "language": "python",
   "name": "python3"
  },
  "language_info": {
   "codemirror_mode": {
    "name": "ipython",
    "version": 3
   },
   "file_extension": ".py",
   "mimetype": "text/x-python",
   "name": "python",
   "nbconvert_exporter": "python",
   "pygments_lexer": "ipython3",
   "version": "3.9.2"
  }
 },
 "nbformat": 4,
 "nbformat_minor": 5
}
