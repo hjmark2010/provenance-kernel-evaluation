{
 "cells": [
  {
   "cell_type": "markdown",
   "metadata": {},
   "source": [
    "# Generating plots for the paper\n",
    "\n",
    "The code in this notebook generates Table 4, Figures 5 and 6 in our paper on [Provenance Graph Kernel](https://arxiv.org/abs/2010.10343). It is run automatically as part of the evaluation pipeline (`make plots`)."
   ]
  },
  {
   "cell_type": "code",
   "execution_count": 1,
   "metadata": {},
   "outputs": [],
   "source": [
    "from pathlib import Path\n",
    "\n",
    "import matplotlib.pyplot as plt\n",
    "import numpy as np\n",
    "import pandas as pd\n",
    "import seaborn as sns\n",
    "\n",
    "sns.set_style(\"whitegrid\")\n",
    "sns.set_context(\"paper\")"
   ]
  },
  {
   "cell_type": "markdown",
   "metadata": {},
   "source": [
    "## Loading scoring and timing data"
   ]
  },
  {
   "cell_type": "code",
   "execution_count": 2,
   "metadata": {},
   "outputs": [],
   "source": [
    "def load_scoring(dataset_id) -> pd.DataFrame:\n",
    "    outputs_folder = Path(\"outputs\") / dataset_id\n",
    "    output_filepath = outputs_folder / \"scoring.pickled\"\n",
    "    \n",
    "    results = pd.read_pickle(output_filepath)\n",
    "    \n",
    "    return results"
   ]
  },
  {
   "cell_type": "code",
   "execution_count": 3,
   "metadata": {},
   "outputs": [],
   "source": [
    "# Identifiers for the six datasets\n",
    "dataset_ids = [\"MIMIC-PXC7\", \"CM-Buildings\", \"CM-Routes\", \"CM-RouteSets\", \"PG-T\", \"PG-D\"]\n",
    "dataset_names = [\"MIMIC\", \"CM-B\", \"CM-R\", \"CM-RS\", \"PG-T\", \"PG-D\"]"
   ]
  },
  {
   "cell_type": "code",
   "execution_count": 4,
   "metadata": {},
   "outputs": [],
   "source": [
    "# The following graph kernels are in the \"slow\" group\n",
    "slow_GKs = {\"GK-GSamp\", \"GK-NSPD\", \"GK-NH\", \"GK-SPath\"}\n",
    "\n",
    "def name_group(method: str) -> str:\n",
    "    if method in slow_GKs:\n",
    "        return \"GK-slow\"\n",
    "    elif method.startswith(\"GK-\"):\n",
    "        # all other graph kernels are in the \"fast\" group\n",
    "        return \"GK-fast\"\n",
    "    elif method.startswith(\"PNA-\"):\n",
    "        # Provenance Network Analytics method\n",
    "        return \"PNA\"\n",
    "    elif method.startswith(\"FG-\"):\n",
    "        # provenance kernels using generic PROV types\n",
    "        return \"PK-G\"\n",
    "    elif method.startswith(\"FA-\"):\n",
    "        # provenance kernels using generic PROV types and application types\n",
    "        return \"PK-A\"\n",
    "    else:\n",
    "        return \"AppData\"\n",
    "\n",
    "def best_performers(results: pd.DataFrame, scoring=\"accuracy\"):\n",
    "    # Give them a group name for plotting\n",
    "    results = results.copy()\n",
    "    # add a \"group_name\" column to the table\n",
    "    results[\"group_name\"] = results.method.map(name_group)\n",
    "\n",
    "    best_methods = {\n",
    "        # for each group, find the method that has the best mean scoring (default to accuracy)\n",
    "        results[results.group_name == group_name].groupby(\"method\")[scoring].mean().idxmax()\n",
    "        for group_name in [\"PK-G\", \"PK-A\", \"PNA\", \"GK-slow\", \"GK-fast\"]\n",
    "    }\n",
    "\n",
    "    # return a filtered table with only the best methods identified above\n",
    "    return results[results.method.isin(best_methods)]"
   ]
  },
  {
   "cell_type": "markdown",
   "metadata": {},
   "source": [
    "### Loading scoring of the best methods"
   ]
  },
  {
   "cell_type": "code",
   "execution_count": 5,
   "metadata": {},
   "outputs": [],
   "source": [
    "scorings = pd.DataFrame()\n",
    "\n",
    "for dataset_id, dataset_name in zip(dataset_ids, dataset_names):\n",
    "    # load the scoring data for this classification task\n",
    "    df = load_scoring(dataset_id)\n",
    "    df[\"dataset\"] = dataset_name\n",
    "    # only keep the scoring data of the best-performing methods in this task\n",
    "    scorings = scorings.append(\n",
    "        best_performers(df),\n",
    "        ignore_index=True\n",
    "    )"
   ]
  },
  {
   "cell_type": "markdown",
   "metadata": {},
   "source": [
    "## Comparing timings of the best methods in each classificaition task"
   ]
  },
  {
   "cell_type": "code",
   "execution_count": 6,
   "metadata": {},
   "outputs": [
    {
     "data": {
      "text/html": [
       "<div>\n",
       "<style scoped>\n",
       "    .dataframe tbody tr th:only-of-type {\n",
       "        vertical-align: middle;\n",
       "    }\n",
       "\n",
       "    .dataframe tbody tr th {\n",
       "        vertical-align: top;\n",
       "    }\n",
       "\n",
       "    .dataframe thead th {\n",
       "        text-align: right;\n",
       "    }\n",
       "</style>\n",
       "<table border=\"1\" class=\"dataframe\">\n",
       "  <thead>\n",
       "    <tr style=\"text-align: right;\">\n",
       "      <th></th>\n",
       "      <th></th>\n",
       "      <th></th>\n",
       "      <th>accuracy</th>\n",
       "      <th>f1</th>\n",
       "      <th>recall</th>\n",
       "      <th>precision</th>\n",
       "      <th>time</th>\n",
       "    </tr>\n",
       "    <tr>\n",
       "      <th>dataset</th>\n",
       "      <th>group_name</th>\n",
       "      <th>method</th>\n",
       "      <th></th>\n",
       "      <th></th>\n",
       "      <th></th>\n",
       "      <th></th>\n",
       "      <th></th>\n",
       "    </tr>\n",
       "  </thead>\n",
       "  <tbody>\n",
       "    <tr>\n",
       "      <th rowspan=\"5\" valign=\"top\">CM-B</th>\n",
       "      <th>GK-fast</th>\n",
       "      <th>GK-HC-5</th>\n",
       "      <td>0.864762</td>\n",
       "      <td>0.864762</td>\n",
       "      <td>0.864762</td>\n",
       "      <td>0.864762</td>\n",
       "      <td>0.616397</td>\n",
       "    </tr>\n",
       "    <tr>\n",
       "      <th>GK-slow</th>\n",
       "      <th>GK-NSPD</th>\n",
       "      <td>0.896861</td>\n",
       "      <td>0.896861</td>\n",
       "      <td>0.896861</td>\n",
       "      <td>0.896861</td>\n",
       "      <td>7.971444</td>\n",
       "    </tr>\n",
       "    <tr>\n",
       "      <th>PK-A</th>\n",
       "      <th>FA-1</th>\n",
       "      <td>0.869148</td>\n",
       "      <td>0.869148</td>\n",
       "      <td>0.869148</td>\n",
       "      <td>0.869148</td>\n",
       "      <td>0.359296</td>\n",
       "    </tr>\n",
       "    <tr>\n",
       "      <th>PK-G</th>\n",
       "      <th>FG-3</th>\n",
       "      <td>0.868929</td>\n",
       "      <td>0.868929</td>\n",
       "      <td>0.868929</td>\n",
       "      <td>0.868929</td>\n",
       "      <td>0.408910</td>\n",
       "    </tr>\n",
       "    <tr>\n",
       "      <th>PNA</th>\n",
       "      <th>PNA-RF</th>\n",
       "      <td>0.895254</td>\n",
       "      <td>0.895254</td>\n",
       "      <td>0.895254</td>\n",
       "      <td>0.895254</td>\n",
       "      <td>55.191348</td>\n",
       "    </tr>\n",
       "  </tbody>\n",
       "</table>\n",
       "</div>"
      ],
      "text/plain": [
       "                            accuracy        f1    recall  precision       time\n",
       "dataset group_name method                                                     \n",
       "CM-B    GK-fast    GK-HC-5  0.864762  0.864762  0.864762   0.864762   0.616397\n",
       "        GK-slow    GK-NSPD  0.896861  0.896861  0.896861   0.896861   7.971444\n",
       "        PK-A       FA-1     0.869148  0.869148  0.869148   0.869148   0.359296\n",
       "        PK-G       FG-3     0.868929  0.868929  0.868929   0.868929   0.408910\n",
       "        PNA        PNA-RF   0.895254  0.895254  0.895254   0.895254  55.191348"
      ]
     },
     "execution_count": 6,
     "metadata": {},
     "output_type": "execute_result"
    }
   ],
   "source": [
    "summary = scorings.groupby([\"dataset\", \"group_name\", \"method\"]).mean()\n",
    "summary.head()"
   ]
  },
  {
   "cell_type": "markdown",
   "metadata": {},
   "source": [
    "### Finding the time cost of the best PK method (between PK-G and PK-A)"
   ]
  },
  {
   "cell_type": "code",
   "execution_count": 7,
   "metadata": {},
   "outputs": [],
   "source": [
    "best_pk_accuracy = dict()  # best accuracy between PK-G and PK-A for a classification task\n",
    "pk_time = dict()  # and its corresponding time cost\n",
    "\n",
    "for row in summary.itertuples():\n",
    "    dataset, group_name, method = row.Index\n",
    "\n",
    "    if group_name in {\"PK-G\", \"PK-A\"}:\n",
    "        to_be_updated = False\n",
    "        try:\n",
    "            if best_pk_accuracy[dataset] < row.accuracy:\n",
    "                to_be_updated = True\n",
    "        except KeyError:\n",
    "            to_be_updated = True\n",
    "\n",
    "        if to_be_updated:\n",
    "            best_pk_accuracy[dataset] = row.accuracy\n",
    "            pk_time[dataset] = row.time"
   ]
  },
  {
   "cell_type": "markdown",
   "metadata": {},
   "source": [
    "### Calculating the relative time for all methods in each classification task"
   ]
  },
  {
   "cell_type": "code",
   "execution_count": 8,
   "metadata": {},
   "outputs": [],
   "source": [
    "data = []\n",
    "\n",
    "for row in summary.itertuples():\n",
    "    dataset, group_name, method = row.Index\n",
    "    relative_time = row.time / pk_time[dataset]\n",
    "    data.append((dataset, group_name, method, row.accuracy, relative_time))\n",
    "\n",
    "rel_time_df = pd.DataFrame(data, columns=[\"Dataset\", \"Group\", \"Method\", \"Accuracy\", \"Relative Time\"])"
   ]
  },
  {
   "cell_type": "code",
   "execution_count": 9,
   "metadata": {},
   "outputs": [],
   "source": [
    "# defining short names for methods to save space\n",
    "method_short_names = {\n",
    "    \"FG-0\": \"G0\",\n",
    "    \"FG-1\": \"G1\",\n",
    "    \"FG-2\": \"G2\",\n",
    "    \"FG-3\": \"G3\",\n",
    "    \"FG-4\": \"G4\",\n",
    "    \"FG-5\": \"G5\",\n",
    "    \"FA-0\": \"A0\",\n",
    "    \"FA-1\": \"A1\",\n",
    "    \"FA-2\": \"A2\",\n",
    "    \"FA-3\": \"A3\",\n",
    "    \"FA-4\": \"A4\",\n",
    "    \"FA-5\": \"A5\",\n",
    "    'PNA-DTree': \"DT\",\n",
    "    'PNA-RF': \"RF\",\n",
    "    'PNA-K-NB': \"K-NB\",\n",
    "    'PNA-NBayes': \"NB\",\n",
    "    'PNA-NN': \"NN\",\n",
    "    'PNA-SVM': \"SVM\",\n",
    "    'GK-SPath': \"SP\",\n",
    "    'GK-EHist': \"EH\",\n",
    "    'GK-VHist': \"VH\",\n",
    "    'GK-GSamp': \"GS\",\n",
    "    \"GK-WL-1\": \"WL1\",\n",
    "    \"GK-WL-2\": \"WL2\",\n",
    "    \"GK-WL-3\": \"WL3\",\n",
    "    \"GK-WL-4\": \"WL4\",\n",
    "    \"GK-WL-5\": \"WL5\",\n",
    "    \"GK-NH\": \"NH\",\n",
    "    \"GK-HC-5\": \"HC5\",\n",
    "    \"GK-NSPD\": \"NSPD\",\n",
    "}"
   ]
  },
  {
   "cell_type": "markdown",
   "metadata": {},
   "source": [
    "### Table 4\n",
    "Within each dataset, we report the time cost of the best-performing method (shown in parentheses) from each comparison group relative to the time taken by the best-performing PK method (whose time cost shown as 1.0)."
   ]
  },
  {
   "cell_type": "code",
   "execution_count": 10,
   "metadata": {},
   "outputs": [],
   "source": [
    "rel_time_df[\"time_method\"] = rel_time_df.apply(\n",
    "    lambda row: \"%.1f (%s)\" % (row[4], method_short_names[row[2]]),\n",
    "    axis=1\n",
    ")"
   ]
  },
  {
   "cell_type": "code",
   "execution_count": 11,
   "metadata": {},
   "outputs": [
    {
     "data": {
      "text/html": [
       "<div>\n",
       "<style scoped>\n",
       "    .dataframe tbody tr th:only-of-type {\n",
       "        vertical-align: middle;\n",
       "    }\n",
       "\n",
       "    .dataframe tbody tr th {\n",
       "        vertical-align: top;\n",
       "    }\n",
       "\n",
       "    .dataframe thead th {\n",
       "        text-align: right;\n",
       "    }\n",
       "</style>\n",
       "<table border=\"1\" class=\"dataframe\">\n",
       "  <thead>\n",
       "    <tr style=\"text-align: right;\">\n",
       "      <th>Group</th>\n",
       "      <th>PK-G</th>\n",
       "      <th>PK-A</th>\n",
       "      <th>GK-fast</th>\n",
       "      <th>GK-slow</th>\n",
       "      <th>PNA</th>\n",
       "    </tr>\n",
       "    <tr>\n",
       "      <th>Dataset</th>\n",
       "      <th></th>\n",
       "      <th></th>\n",
       "      <th></th>\n",
       "      <th></th>\n",
       "      <th></th>\n",
       "    </tr>\n",
       "  </thead>\n",
       "  <tbody>\n",
       "    <tr>\n",
       "      <th>MIMIC</th>\n",
       "      <td>1.0 (G5)</td>\n",
       "      <td>1.0 (A3)</td>\n",
       "      <td>1.2 (WL5)</td>\n",
       "      <td>66.7 (GS)</td>\n",
       "      <td>222.2 (SVM)</td>\n",
       "    </tr>\n",
       "    <tr>\n",
       "      <th>CM-B</th>\n",
       "      <td>1.1 (G3)</td>\n",
       "      <td>1.0 (A1)</td>\n",
       "      <td>1.7 (HC5)</td>\n",
       "      <td>22.2 (NSPD)</td>\n",
       "      <td>153.6 (RF)</td>\n",
       "    </tr>\n",
       "    <tr>\n",
       "      <th>CM-R</th>\n",
       "      <td>0.9 (G0)</td>\n",
       "      <td>1.0 (A0)</td>\n",
       "      <td>1.6 (WL5)</td>\n",
       "      <td>57.6 (NH)</td>\n",
       "      <td>242.5 (DT)</td>\n",
       "    </tr>\n",
       "    <tr>\n",
       "      <th>CM-RS</th>\n",
       "      <td>1.0 (G3)</td>\n",
       "      <td>0.9 (A2)</td>\n",
       "      <td>1.4 (WL5)</td>\n",
       "      <td>72.9 (NH)</td>\n",
       "      <td>152.3 (DT)</td>\n",
       "    </tr>\n",
       "    <tr>\n",
       "      <th>PG-T</th>\n",
       "      <td>1.0 (G5)</td>\n",
       "      <td>1.0 (A3)</td>\n",
       "      <td>0.7 (WL5)</td>\n",
       "      <td>21.6 (NH)</td>\n",
       "      <td>120.7 (DT)</td>\n",
       "    </tr>\n",
       "    <tr>\n",
       "      <th>PG-D</th>\n",
       "      <td>1.5 (G5)</td>\n",
       "      <td>1.0 (A2)</td>\n",
       "      <td>0.8 (WL5)</td>\n",
       "      <td>21.9 (NH)</td>\n",
       "      <td>212.6 (SVM)</td>\n",
       "    </tr>\n",
       "  </tbody>\n",
       "</table>\n",
       "</div>"
      ],
      "text/plain": [
       "Group        PK-G      PK-A    GK-fast      GK-slow          PNA\n",
       "Dataset                                                         \n",
       "MIMIC    1.0 (G5)  1.0 (A3)  1.2 (WL5)    66.7 (GS)  222.2 (SVM)\n",
       "CM-B     1.1 (G3)  1.0 (A1)  1.7 (HC5)  22.2 (NSPD)   153.6 (RF)\n",
       "CM-R     0.9 (G0)  1.0 (A0)  1.6 (WL5)    57.6 (NH)   242.5 (DT)\n",
       "CM-RS    1.0 (G3)  0.9 (A2)  1.4 (WL5)    72.9 (NH)   152.3 (DT)\n",
       "PG-T     1.0 (G5)  1.0 (A3)  0.7 (WL5)    21.6 (NH)   120.7 (DT)\n",
       "PG-D     1.5 (G5)  1.0 (A2)  0.8 (WL5)    21.9 (NH)  212.6 (SVM)"
      ]
     },
     "execution_count": 11,
     "metadata": {},
     "output_type": "execute_result"
    }
   ],
   "source": [
    "rel_time_df.pivot(index=\"Dataset\", columns=\"Group\", values=\"time_method\").reindex(dataset_names)[\n",
    "    [\"PK-G\", \"PK-A\", \"GK-fast\", \"GK-slow\", \"PNA\"]\n",
    "]"
   ]
  },
  {
   "cell_type": "markdown",
   "metadata": {},
   "source": [
    "## Generating plots"
   ]
  },
  {
   "cell_type": "code",
   "execution_count": 12,
   "metadata": {},
   "outputs": [],
   "source": [
    "# store the current colour palette\n",
    "current_palette = sns.color_palette()"
   ]
  },
  {
   "cell_type": "markdown",
   "metadata": {},
   "source": [
    "### Figure 5: The relative time costs of the best-performing methods reported in Table 4 plotted on the log scale"
   ]
  },
  {
   "cell_type": "code",
   "execution_count": 13,
   "metadata": {},
   "outputs": [
    {
     "data": {
      "image/png": "[encoded data removed]",
      "text/plain": [
       "<Figure size 414x234 with 1 Axes>"
      ]
     },
     "metadata": {},
     "output_type": "display_data"
    }
   ],
   "source": [
    "dataset_order = [\"MIMIC\", \"CM-B\", \"CM-R\", \"CM-RS\", \"PG-T\", \"PG-D\"]\n",
    "selected_groups = [\"PK-G\", \"PK-A\", \"GK-fast\", \"GK-slow\", \"PNA\"]\n",
    "plot = sns.barplot(x=\"Dataset\", y=\"Relative Time\", hue=\"Group\", order=dataset_order, hue_order=selected_groups, data=rel_time_df)\n",
    "plot.set_yscale(\"log\")\n",
    "plt.legend(loc='upper center', ncol=5, bbox_to_anchor=(0.5, 1.15))\n",
    "plot.figure.set_size_inches(5.75, 3.25)\n",
    "plt.tight_layout()"
   ]
  },
  {
   "cell_type": "code",
   "execution_count": 14,
   "metadata": {},
   "outputs": [],
   "source": [
    "# saving the above plot\n",
    "plot.figure.savefig(\"plots/best-performers-relative-timing.pdf\")"
   ]
  },
  {
   "cell_type": "markdown",
   "metadata": {},
   "source": [
    "### Figure 6: The mean classification accuracy of the best-performing provenance kernels, generic graph kernels, and PNA methods across the six classification tasks. The error bars show the 95-percent confidence intervals"
   ]
  },
  {
   "cell_type": "code",
   "execution_count": 15,
   "metadata": {},
   "outputs": [
    {
     "data": {
      "image/png": "[encoded data removed]",
      "text/plain": [
       "<Figure size 432x234 with 1 Axes>"
      ]
     },
     "metadata": {},
     "output_type": "display_data"
    }
   ],
   "source": [
    "plt.figure()\n",
    "selected_groups = [\"PK-G\", \"PK-A\", \"GK-slow\", \"GK-fast\", \"PNA\"]\n",
    "df = scorings[scorings.group_name.isin(set(selected_groups))]\n",
    "plot = sns.barplot(x=\"dataset\", y=\"accuracy\", hue=\"group_name\",\n",
    "                   hue_order=selected_groups, data=df, palette=current_palette,\n",
    "                   errwidth=0.8, capsize=0.02)\n",
    "plot.set(xlabel=\"Dataset\", ylabel=\"Accuracy\")\n",
    "plot.figure.set_size_inches(6, 3.25)\n",
    "plt.legend(loc='upper center', ncol=5, bbox_to_anchor=(0.5, 1.15))\n",
    "plt.tight_layout()"
   ]
  },
  {
   "cell_type": "code",
   "execution_count": 16,
   "metadata": {},
   "outputs": [],
   "source": [
    "plot.figure.savefig(\"plots/accuracy-best-performers.pdf\")"
   ]
  }
 ],
 "metadata": {
  "kernelspec": {
   "display_name": "Python 3",
   "language": "python",
   "name": "python3"
  },
  "language_info": {
   "codemirror_mode": {
    "name": "ipython",
    "version": 3
   },
   "file_extension": ".py",
   "mimetype": "text/x-python",
   "name": "python",
   "nbconvert_exporter": "python",
   "pygments_lexer": "ipython3",
   "version": "3.8.7"
  }
 },
 "nbformat": 4,
 "nbformat_minor": 4
}
